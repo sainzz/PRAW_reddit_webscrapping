{
  "cells": [
    {
      "cell_type": "markdown",
      "source": [
        "#TRABAJO 1 Recolección de datos con PRAW\n",
        "\n",
        "Bastian Cortez Arce\n",
        "\n",
        "Bruno Sainz Silva\n"
      ],
      "metadata": {
        "id": "rF0zjdQeejJX"
      },
      "id": "rF0zjdQeejJX"
    },
    {
      "cell_type": "code",
      "source": [
        "!pip install praw"
      ],
      "metadata": {
        "id": "iwCtI8Oyek1Q",
        "colab": {
          "base_uri": "https://localhost:8080/"
        },
        "outputId": "133948e0-1a41-4261-f71e-fdf16248368c"
      },
      "id": "iwCtI8Oyek1Q",
      "execution_count": 2,
      "outputs": [
        {
          "output_type": "stream",
          "name": "stdout",
          "text": [
            "Collecting praw\n",
            "  Downloading praw-7.8.1-py3-none-any.whl.metadata (9.4 kB)\n",
            "Collecting prawcore<3,>=2.4 (from praw)\n",
            "  Downloading prawcore-2.4.0-py3-none-any.whl.metadata (5.0 kB)\n",
            "Collecting update_checker>=0.18 (from praw)\n",
            "  Downloading update_checker-0.18.0-py3-none-any.whl.metadata (2.3 kB)\n",
            "Requirement already satisfied: websocket-client>=0.54.0 in /usr/local/lib/python3.11/dist-packages (from praw) (1.8.0)\n",
            "Requirement already satisfied: requests<3.0,>=2.6.0 in /usr/local/lib/python3.11/dist-packages (from prawcore<3,>=2.4->praw) (2.32.3)\n",
            "Requirement already satisfied: charset-normalizer<4,>=2 in /usr/local/lib/python3.11/dist-packages (from requests<3.0,>=2.6.0->prawcore<3,>=2.4->praw) (3.4.1)\n",
            "Requirement already satisfied: idna<4,>=2.5 in /usr/local/lib/python3.11/dist-packages (from requests<3.0,>=2.6.0->prawcore<3,>=2.4->praw) (3.10)\n",
            "Requirement already satisfied: urllib3<3,>=1.21.1 in /usr/local/lib/python3.11/dist-packages (from requests<3.0,>=2.6.0->prawcore<3,>=2.4->praw) (2.3.0)\n",
            "Requirement already satisfied: certifi>=2017.4.17 in /usr/local/lib/python3.11/dist-packages (from requests<3.0,>=2.6.0->prawcore<3,>=2.4->praw) (2025.1.31)\n",
            "Downloading praw-7.8.1-py3-none-any.whl (189 kB)\n",
            "\u001b[2K   \u001b[90m━━━━━━━━━━━━━━━━━━━━━━━━━━━━━━━━━━━━━━━━\u001b[0m \u001b[32m189.3/189.3 kB\u001b[0m \u001b[31m3.4 MB/s\u001b[0m eta \u001b[36m0:00:00\u001b[0m\n",
            "\u001b[?25hDownloading prawcore-2.4.0-py3-none-any.whl (17 kB)\n",
            "Downloading update_checker-0.18.0-py3-none-any.whl (7.0 kB)\n",
            "Installing collected packages: update_checker, prawcore, praw\n",
            "Successfully installed praw-7.8.1 prawcore-2.4.0 update_checker-0.18.0\n"
          ]
        }
      ]
    },
    {
      "cell_type": "code",
      "source": [
        "import pandas as pd\n",
        "import praw\n",
        "import datetime\n",
        "from google.colab import userdata\n",
        "import time\n",
        "import random\n",
        "\n",
        "reddit = praw.Reddit(\n",
        "    client_id=userdata.get('id_client_redit'),\n",
        "    client_secret=userdata.get('client_secret_redit'),\n",
        "    user_agent=userdata.get('user_agent_redit'),\n",
        "    check_for_async=False\n",
        ")\n",
        "\n",
        "#funcion para crear respaldo en caso de fallar\n",
        "def guardar_respaldo(nombre_base):\n",
        "    df_posts = pd.DataFrame(datosPost)\n",
        "    df_comentarios = pd.DataFrame(comentariosPost)\n",
        "    df_posts.to_csv(f\"{nombre_base}_posts.csv\", index=False)\n",
        "    df_comentarios.to_csv(f\"{nombre_base}_comentarios.csv\", index=False)\n",
        "\n",
        "datosPost = {\n",
        "    'id_post': [],\n",
        "    'titulo_post': [],\n",
        "    \"fecha_post\": [],\n",
        "    \"autor_post\": [],\n",
        "    \"URL\": [],\n",
        "    \"numero_comentarios\": [],\n",
        "    \"puntaje\": [],\n",
        "    \"upvotesRatio\": [],\n",
        "    \"texto_post\": [],\n",
        "    \"tiene_texto\": [],\n",
        "}\n",
        "\n",
        "comentariosPost = {\n",
        "    'id_post': [],\n",
        "    'id_comentario': [],\n",
        "    'autor_comentario': [],\n",
        "    'texto_comentario': [],\n",
        "    'fecha_comentario': [],\n",
        "    'puntaje_comentario': [],\n",
        "    'edited': [],\n",
        "}\n",
        "\n",
        "def extraccion_info_post(post):\n",
        "    fecha = datetime.datetime.fromtimestamp(post.created_utc).strftime('%Y-%m-%d %H:%M:%S')\n",
        "    autor = str(post.author) if post.author else \"ELIMINADO\"\n",
        "    tiene_texto = \"Sí\" if post.selftext else \"No\"\n",
        "\n",
        "    datosPost['id_post'].append(post.id)\n",
        "    datosPost['titulo_post'].append(post.title)\n",
        "    datosPost['fecha_post'].append(fecha)\n",
        "    datosPost['autor_post'].append(autor)\n",
        "    datosPost['URL'].append(post.url)\n",
        "    datosPost['puntaje'].append(post.score)\n",
        "    datosPost['numero_comentarios'].append(post.num_comments)\n",
        "    datosPost['upvotesRatio'].append(post.upvote_ratio)\n",
        "    datosPost['texto_post'].append(post.selftext)\n",
        "    datosPost['tiene_texto'].append(tiene_texto)\n",
        "\n",
        "    if post.num_comments > 15:\n",
        "        post.comments.replace_more(limit=0)\n",
        "        for comment in post.comments[:10]:\n",
        "            if not comment.stickied:\n",
        "                comentariosPost['id_post'].append(post.id)\n",
        "                comentariosPost['id_comentario'].append(comment.id)\n",
        "                comentariosPost['autor_comentario'].append(str(comment.author) if comment.author else \"ELIMINADO\")\n",
        "                comentariosPost['texto_comentario'].append(comment.body)\n",
        "                comentariosPost['fecha_comentario'].append(\n",
        "                    datetime.datetime.fromtimestamp(comment.created_utc).strftime('%Y-%m-%d %H:%M:%S')\n",
        "                )\n",
        "                comentariosPost['puntaje_comentario'].append(comment.score)\n",
        "                comentariosPost['edited'].append(comment.edited)\n",
        "\n",
        "ListaSubreddits = [\"Askmen\", \"Askwomen\",\"askscience\"]\n",
        "\n",
        "\n",
        "#Consultar Reddit\n",
        "try:\n",
        "    for subs in ListaSubreddits:\n",
        "        sub = reddit.subreddit(subs)\n",
        "\n",
        "        #si subs esta en esta lista, entonces buscamos los posts nuevos\n",
        "        if subs in [\"Askmen\", \"Askwomen\"]:\n",
        "            submissions = sub.new(limit=200)\n",
        "        #sino, se consultara el top del año\n",
        "        elif subs == \"askscience\":\n",
        "            submissions = sub.top(limit=200, time_filter='year')\n",
        "\n",
        "        #se consulta con un tiempo de espera para evitar rechazo de la web\n",
        "        for i, submission in enumerate(submissions):\n",
        "            wait = random.randint(4, 8)\n",
        "            time.sleep(wait)\n",
        "            print(f\"reddit {subs}, post {i+1} --- {wait} [s] \")\n",
        "\n",
        "            try:\n",
        "                extraccion_info_post(submission)\n",
        "                guardar_respaldo(nombre_base=f\"askcienceonly_{subs}\")  # Se sobrescribe cada vez\n",
        "            except Exception as e:\n",
        "                print(f\"⚠️ Error al procesar post {i+1} en {subs}: {e}\")\n",
        "                guardar_respaldo(nombre_base=\"respaldo_error\")  # Un solo respaldo general\n",
        "                raise e\n",
        "\n",
        "    # Guardado final, tanto la combinacion de post y comentarios como los autoguardados por separado\n",
        "    df_posts = pd.DataFrame(datosPost)\n",
        "    df_comentarios = pd.DataFrame(comentariosPost)\n",
        "    df_pandas = df_posts.merge(df_comentarios, on='id_post', how='inner')\n",
        "    df_pandas.to_csv('reddit_data.csv', index=False)\n",
        "\n",
        "except Exception as final_error:\n",
        "    print(f\"🚨 Script detenido por error: {final_error}\")\n"
      ],
      "metadata": {
        "id": "DjfkOkfLcXg_"
      },
      "id": "DjfkOkfLcXg_",
      "execution_count": null,
      "outputs": []
    },
    {
      "cell_type": "markdown",
      "source": [
        "Las librerías con las que trabajaremos serán:\n",
        "\n",
        "\n",
        "* https://www.reddit.com/r/askscience/\n",
        "\n",
        "* https://www.reddit.com/r/AskMen/\n",
        "\n",
        "* https://www.reddit.com/r/AskWomen/\n",
        "\n",
        "Los subreddits de AskMen y AskWomen fueron elegidos pensando en el futuro, con la intención de poder comparar publicaciones y analizar cómo se comportan según el género, observando las palabras más usadas, el tiempo entre publicaciones, etc. Por esta razón, filtramos los posts más recientes, de modo que contemos con una línea temporal coherente para realizar las comparaciones.\n",
        "\n",
        "\n",
        "\n",
        "El subreddit de AskScience se utilizará para observar qué tipo de preguntas hace la gente, o bien para darle un uso a los datos entrenando algún modelo enfocado en el área científica. En el mejor de los casos, incluso podría emplearse un modelo ya entrenado para analizar las respuestas a estas dudas: ¿están correctas o son inconclusas?"
      ],
      "metadata": {
        "id": "JbwRV1y_Z5El"
      },
      "id": "JbwRV1y_Z5El"
    }
  ],
  "metadata": {
    "kernelspec": {
      "display_name": "Python 3 (ipykernel)",
      "language": "python",
      "name": "python3"
    },
    "language_info": {
      "codemirror_mode": {
        "name": "ipython",
        "version": 3
      },
      "file_extension": ".py",
      "mimetype": "text/x-python",
      "name": "python",
      "nbconvert_exporter": "python",
      "pygments_lexer": "ipython3",
      "version": "3.11.7"
    },
    "colab": {
      "provenance": []
    }
  },
  "nbformat": 4,
  "nbformat_minor": 5
}